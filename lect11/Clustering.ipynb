{
 "cells": [
  {
   "cell_type": "markdown",
   "metadata": {},
   "source": [
    "# Clustering (การจัดกลุ่ม)\n",
    "\n",
    "การจัดกลุ่มเป็นการเรียนรู้แบบไม่มีผู้สอน (unsupervised learning) ที่นิยมใช้สำหรับการวิเคราะห์ข้อมูลเชิงสำรวจ (exploratory analysis) เพื่อค้นหารูปแบบแฝงในชุดข้อมูลที่ไม่มีป้ายชื่อ (unlabeled data) \n",
    "\n",
    "อัลกอริทึมการจัดกลุ่ม (clustering algorthm) จะจัดจุดข้อมูลที่มีความคล้ายคลึงกันมากไว้ในกลุ่มเดียวกัน เพื่อให้จุดข้อมูลที่อยู่ในกลุ่มเดียวกันมีความเป็นเนื้อเดียวกันสูง (high intra-group homogeneity) และจุดข้อมูลที่อยู่คนละกลุ่มกันมีความต่างกันสูง (high inter-group heterogeneity)\n",
    "\n",
    "ตัวอย่างการประยุกต์ใช้งาน clustering algorithm เช่น การแบ่งกลุ่มลูกค้า (customer segmentation), การวิเคราะห์ข้อมูล (data analysis), การลดมิติของข้อมูล (dimensionality reduction), การตรวจจับข้อมูลผิดปกติ (outlier detection), การแบ่งส่วนรูปภาพ (image segmentation), การค้นหาข้อมูล (search engine)\n",
    "\n",
    "ในบทนี้ เราจะศึกษาเทคนิคการจัดกลุ่มข้อมูลที่เรียกว่า Hierachical Cluster Analysis (HCA)"
   ]
  },
  {
   "cell_type": "markdown",
   "metadata": {},
   "source": [
    "## Hierachical Cluster Analysis (HCA)\n",
    "\n",
    "Hierarchical Cluster Analysis (HCA) เป็นอัลกอริทึมการจัดกลุ่มข้อมูลที่ทำงานแบบ bottom-up, HCA เหมาะกับกรณีที่ผู้ใช้งานไม่ทราบหรือไม่สามารถประมาณค่าจำนวนคลัสเตอร์ที่ต้องการสร้างได้ \n",
    "\n",
    "หลักการทำงานของ HCA คือการผนวกรวมคลัสเตอร์ของจุดข้อมูลที่มีความเหมือนกันเป็นคลัสเตอร์เดียวกัน โดยเริ่มต้นจากคลัสเตอร์ที่ประกอบด้วยจุดข้อมูลเพียงจุดเดียวและดำเนินการรวมตัวคลัสเตอร์ที่เหมือนกันที่สุดเข้าด้วยกัน จนกระทั่งเหลือพียงคลัสเตอร์เดียว \n",
    "\n",
    "ความเหมือนหรือความคล้ายคลึงกันระหว่างจุดข้อมูลสามารถวัดค่าเป็นตัวเลขได้โดยใช้ Euclidean distance:\n",
    "$dist(x, y) = \\sqrt{\\sum_{i=1}^{n}{(x_i - y_i)^2}}$\n",
    "\n",
    "จุดข้อมูลที่เหมือนกันจะมีค่า Euclidean distance น้อย ส่วนจุดข้อมูลที่ต่างกันมากจะมีค่า Euclidean distance มาก\n",
    "\n",
    "จากสูตรคำนวณความคล้ายคลึงกันระหว่างจุดข้อมูลเราสามารถคำนวณความคล้ายคลึงกันของคลัสเตอร์สองคลัสเตอร์ได้ 3 วิธีดังนี้คือ\n",
    "\n",
    "1. **Single-linkage Clustering** ความคล้ายคลึงระหว่างคลัสเตอร์คำนวณได้จากระยะทางที่ใกล้ที่สุดจากสมาชิกของคลัสเตอร์หนึ่งไปยังสมาชิกของอีกคลัสเตอร์หนึ่ง\n",
    "\n",
    "2. **Complete-linkage Clustering** ความคล้ายคลึงระหว่างคลัสเตอร์คำนวณได้จากระยะทางที่ไกลที่สุดจากสมาชิกของคลัสเตอร์หนึ่งไปยังสมาชิกของอีกคลัสเตอร์หนึ่ง\n",
    "\n",
    "3. **Average-linkage Clustering** ความคล้ายคลึงระหว่างคลัสเตอร์คำนวณได้จากค่าเฉลี่ยของระยะทางระหว่างสมาชิกของคลัสเตอร์หนึ่งไปยังสมาชิกของอีกคลัสเตอร์หนึ่ง\n",
    "\n",
    "กระบวนการทำงานของ HCA แสดงดังในรูปที่ 1 และความสัมพันธ์ระหว่างคลัสเตอร์แต่ละคลัสเตอร์ที่สร้างขึ้นโดย HCA สามารถแสดงได้โดยใช้แผนภูมิต้นไม้ dendrogram ซึ่งมีลักษณะเป็นโครงสร้างเหมือนต้นไม้ ดังแสดงตัวอย่างในรูปที่ 2 \n",
    "\n",
    "![fig2.jpg](fig2.jpg)\n",
    "**<center>รูปที่ 1: กระบวนการทำงานของ Hierarchical Clustering Analysis (HCA)</center>**\n",
    "\n",
    "![fig1.jpg](fig1.jpg)\n",
    "**<center>รูปที่ 2: Dendrogram ตัวเลขบนแกน x คือ identifier ของจุดข้อมูล ส่วนตัวเลขแกน y คือค่าระดับความลึกของต้นไม้</center>**"
   ]
  },
  {
   "cell_type": "markdown",
   "metadata": {},
   "source": [
    "### ตัวอย่างการจัดกลุ่มข้อมูลโดยใช้ HCA\n",
    "\n",
    "กำหนดชุดข้อมูลพันธ์ุสุนัข ดังตารางที่ 1 จงจัดกลุ่มสายพันธ์ุสุนัขโดยใช้อัลกอริทึม HCA\n",
    "\n",
    "| สายพันธุ์ | ความสูง (นิ้ว) | น้ำหนัก (ปอนด์) |\n",
    "|--------|--------|--------|\n",
    "| Border Colle | 20 | 45 |\n",
    "| Boston Terrier | 16 | 20 |\n",
    "| Brittany Spaniel | 18 | 35 |\n",
    "| Bullmastiff | 27 | 120 |\n",
    "| Chihuahua | 8 | 8 |\n",
    "| German Shepherd | 25 | 78 |\n",
    "| Golden Retriever | 23 | 70 |\n",
    "| Great Dane | 32 | 160 |\n",
    "| Portuguese Water Dog | 21 | 50|\n",
    "| Standard Poodle | 19 | 65 |\n",
    "| Yorkshire Terrier | 6 | 7 |"
   ]
  },
  {
   "cell_type": "markdown",
   "metadata": {},
   "source": [
    "1. สร้างดาต้าเฟรมเพื่อเก็บข้อมูลสายพันธ์ุสุนัขและแปลงค่าน้ำหนักและความสูงให้อยู่ในช่วงค่ามาตรฐาน "
   ]
  },
  {
   "cell_type": "code",
   "execution_count": 81,
   "metadata": {},
   "outputs": [
    {
     "name": "stdout",
     "output_type": "stream",
     "text": [
      "<class 'pandas.core.frame.DataFrame'>\n",
      "Index: 11 entries, Border Colle to Yorkshire Terrier\n",
      "Data columns (total 2 columns):\n",
      "Height    11 non-null int64\n",
      "Weight    11 non-null int64\n",
      "dtypes: int64(2)\n",
      "memory usage: 264.0+ bytes\n"
     ]
    }
   ],
   "source": [
    "import pandas as pd\n",
    "\n",
    "dogs = pd.DataFrame({\n",
    "            \"Breed\" : [\"Border Colle\", \"Boston Terrier\", \"Brittany Spaniel\", \n",
    "                       \"Bullmastiff\", \"Chihuahua\", \"German Shepherd\", \n",
    "                       \"Golden Retriever\", \"Great Dane\", \"Portuguese Water Dog\", \n",
    "                       \"Standard Poodle\", \"Yorkshire Terrier\"],\n",
    "            \"Height\": [20, 16, 18, 27, 8, 25, 23, 32, 21, 19, 6],\n",
    "            \"Weight\": [45, 20, 35, 120, 8, 78, 70, 160, 50, 65, 7]\n",
    "})\n",
    "\n",
    "dogs.set_index(\"Breed\", inplace=True)\n",
    "\n",
    "dogs.info()"
   ]
  },
  {
   "cell_type": "code",
   "execution_count": 82,
   "metadata": {},
   "outputs": [
    {
     "data": {
      "text/html": [
       "<div>\n",
       "<style scoped>\n",
       "    .dataframe tbody tr th:only-of-type {\n",
       "        vertical-align: middle;\n",
       "    }\n",
       "\n",
       "    .dataframe tbody tr th {\n",
       "        vertical-align: top;\n",
       "    }\n",
       "\n",
       "    .dataframe thead th {\n",
       "        text-align: right;\n",
       "    }\n",
       "</style>\n",
       "<table border=\"1\" class=\"dataframe\">\n",
       "  <thead>\n",
       "    <tr style=\"text-align: right;\">\n",
       "      <th></th>\n",
       "      <th>Height</th>\n",
       "      <th>Weight</th>\n",
       "    </tr>\n",
       "    <tr>\n",
       "      <th>Breed</th>\n",
       "      <th></th>\n",
       "      <th></th>\n",
       "    </tr>\n",
       "  </thead>\n",
       "  <tbody>\n",
       "    <tr>\n",
       "      <td>Border Colle</td>\n",
       "      <td>0.062238</td>\n",
       "      <td>-0.330507</td>\n",
       "    </tr>\n",
       "    <tr>\n",
       "      <td>Boston Terrier</td>\n",
       "      <td>-0.485456</td>\n",
       "      <td>-0.888111</td>\n",
       "    </tr>\n",
       "    <tr>\n",
       "      <td>Brittany Spaniel</td>\n",
       "      <td>-0.211609</td>\n",
       "      <td>-0.553549</td>\n",
       "    </tr>\n",
       "    <tr>\n",
       "      <td>Bullmastiff</td>\n",
       "      <td>1.020703</td>\n",
       "      <td>1.342305</td>\n",
       "    </tr>\n",
       "    <tr>\n",
       "      <td>Chihuahua</td>\n",
       "      <td>-1.580845</td>\n",
       "      <td>-1.155761</td>\n",
       "    </tr>\n",
       "    <tr>\n",
       "      <td>German Shepherd</td>\n",
       "      <td>0.746856</td>\n",
       "      <td>0.405530</td>\n",
       "    </tr>\n",
       "    <tr>\n",
       "      <td>Golden Retriever</td>\n",
       "      <td>0.473009</td>\n",
       "      <td>0.227097</td>\n",
       "    </tr>\n",
       "    <tr>\n",
       "      <td>Great Dane</td>\n",
       "      <td>1.705321</td>\n",
       "      <td>2.234471</td>\n",
       "    </tr>\n",
       "    <tr>\n",
       "      <td>Portuguese Water Dog</td>\n",
       "      <td>0.199162</td>\n",
       "      <td>-0.218986</td>\n",
       "    </tr>\n",
       "    <tr>\n",
       "      <td>Standard Poodle</td>\n",
       "      <td>-0.074686</td>\n",
       "      <td>0.115576</td>\n",
       "    </tr>\n",
       "    <tr>\n",
       "      <td>Yorkshire Terrier</td>\n",
       "      <td>-1.854692</td>\n",
       "      <td>-1.178065</td>\n",
       "    </tr>\n",
       "  </tbody>\n",
       "</table>\n",
       "</div>"
      ],
      "text/plain": [
       "                        Height    Weight\n",
       "Breed                                   \n",
       "Border Colle          0.062238 -0.330507\n",
       "Boston Terrier       -0.485456 -0.888111\n",
       "Brittany Spaniel     -0.211609 -0.553549\n",
       "Bullmastiff           1.020703  1.342305\n",
       "Chihuahua            -1.580845 -1.155761\n",
       "German Shepherd       0.746856  0.405530\n",
       "Golden Retriever      0.473009  0.227097\n",
       "Great Dane            1.705321  2.234471\n",
       "Portuguese Water Dog  0.199162 -0.218986\n",
       "Standard Poodle      -0.074686  0.115576\n",
       "Yorkshire Terrier    -1.854692 -1.178065"
      ]
     },
     "execution_count": 82,
     "metadata": {},
     "output_type": "execute_result"
    }
   ],
   "source": [
    "from sklearn.preprocessing import StandardScaler\n",
    "\n",
    "dogs_std = StandardScaler().fit_transform(dogs)\n",
    "\n",
    "from scipy.stats import zscore\n",
    "\n",
    "dogs_standardized = dogs.apply(zscore)\n",
    "\n",
    "dogs_standardized"
   ]
  },
  {
   "cell_type": "markdown",
   "metadata": {},
   "source": [
    "2. จัดกลุ่มโดยใช้ HCA แบบ Complete-linkage clustering"
   ]
  },
  {
   "cell_type": "code",
   "execution_count": 76,
   "metadata": {},
   "outputs": [],
   "source": [
    "from scipy.cluster.hierarchy import linkage\n",
    "\n",
    "single_linkage_model = linkage(dogs_standardized, method='single')"
   ]
  },
  {
   "cell_type": "markdown",
   "metadata": {},
   "source": [
    "3. แสดง dendrogram ของโมเดลที่ได้"
   ]
  },
  {
   "cell_type": "code",
   "execution_count": 111,
   "metadata": {
    "scrolled": true
   },
   "outputs": [
    {
     "data": {
      "image/png": "[encoded data removed]",
      "text/plain": [
       "<Figure size 720x360 with 1 Axes>"
      ]
     },
     "metadata": {
      "needs_background": "light"
     },
     "output_type": "display_data"
    }
   ],
   "source": [
    "import matplotlib.pyplot as plt\n",
    "%matplotlib inline\n",
    "\n",
    "from scipy.cluster.hierarchy import dendrogram\n",
    "\n",
    "plt.figure(figsize=(10,5))\n",
    "\n",
    "plt.subplot(111)\n",
    "plt.title(\"Dendrogram for Dog-Breed Data constructed using Single-Linkage HCA\")\n",
    "dendrogram(single_linkage_model, orientation='right', leaf_font_size=12, \n",
    "           labels=dogs_standardized.index)\n",
    "\n",
    "plt.show()"
   ]
  },
  {
   "cell_type": "markdown",
   "metadata": {},
   "source": [
    "เพื่อให้เข้าใจกลไกของ Single-linkage HCA และเพื่อตรวจสอบผลลัพธ์การจัดกลุ่มที่ได้จากการใช้เมธอด `scipy.cluster.hierarchy.linkage` ข้างต้น ต่อไปเราจะทดลองสร้าง dendrogram โดยใช้ Single-linkage HCA โดยไม่ใช้ไลบารี่ scipy แต่จะทำการคำนวณหาค่า Euclidean distance และสร้างคลัสเตอร์เองทีละขั้นตอน"
   ]
  },
  {
   "cell_type": "markdown",
   "metadata": {},
   "source": [
    "ขั้นตอนแรกเราจะคำนวณหาระยะทางระหว่างจุดข้อมูลแต่ละจุด โดยใช้เมธอด `scipy.spatial.distance.euclidean`"
   ]
  },
  {
   "cell_type": "code",
   "execution_count": 137,
   "metadata": {},
   "outputs": [
    {
     "name": "stdout",
     "output_type": "stream",
     "text": [
      "{   'Border Colle': {   'Boston Terrier': 0.7815953388456858,\n",
      "                        'Brittany Spaniel': 0.35318524151607267,\n",
      "                        'Bullmastiff': 1.9279407298383904,\n",
      "                        'Chihuahua': 1.8386857334523803,\n",
      "                        'German Shepherd': 1.0052126790592273,\n",
      "                        'Golden Retriever': 0.6925711740962321,\n",
      "                        'Great Dane': 3.046118213756746,\n",
      "                        'Portuguese Water Dog': 0.17659262075803636,\n",
      "                        'Standard Poodle': 0.46662437897083614,\n",
      "                        'Yorkshire Terrier': 2.0959425529183227},\n",
      "    'Boston Terrier': {   'Brittany Spaniel': 0.43234739188836974,\n",
      "                          'Bullmastiff': 2.6913327265580724,\n",
      "                          'Chihuahua': 1.1276136461940418,\n",
      "                          'German Shepherd': 1.7866452095543548,\n",
      "                          'Golden Retriever': 1.4704911242751728,\n",
      "                          'Great Dane': 3.814449675547477,\n",
      "                          'Portuguese Water Dog': 0.9573033155903049,\n",
      "                          'Standard Poodle': 1.0844909859494516,\n",
      "                          'Yorkshire Terrier': 1.399599836156949},\n",
      "    'Brittany Spaniel': {   'Bullmastiff': 2.2611621949861394,\n",
      "                            'Chihuahua': 1.4958161813328503,\n",
      "                            'German Shepherd': 1.3559083738303823,\n",
      "                            'Golden Retriever': 1.0383203813875341,\n",
      "                            'Great Dane': 3.383441583128657,\n",
      "                            'Portuguese Water Dog': 0.5297778622741091,\n",
      "                            'Standard Poodle': 0.6829905715612437,\n",
      "                            'Yorkshire Terrier': 1.7577661929122157},\n",
      "    'Bullmastiff': {   'Chihuahua': 3.606713877374904,\n",
      "                       'German Shepherd': 0.975981170828275,\n",
      "                       'Golden Retriever': 1.2424403649366582,\n",
      "                       'Great Dane': 1.1245721727610378,\n",
      "                       'Portuguese Water Dog': 1.764245111019437,\n",
      "                       'Standard Poodle': 1.6446093138196765,\n",
      "                       'Yorkshire Terrier': 3.823632051464123},\n",
      "    'Chihuahua': {   'German Shepherd': 2.802823720029192,\n",
      "                     'Golden Retriever': 2.4760069679658243,\n",
      "                     'Great Dane': 4.721499881141498,\n",
      "                     'Portuguese Water Dog': 2.0114595885952955,\n",
      "                     'Standard Poodle': 1.9709931347510679,\n",
      "                     'Yorkshire Terrier': 0.2747539417115298},\n",
      "    'German Shepherd': {   'Golden Retriever': 0.3268496481866988,\n",
      "                           'Great Dane': 2.0648683163077983,\n",
      "                           'Portuguese Water Dog': 0.8306563051100271,\n",
      "                           'Standard Poodle': 0.8712081585404992,\n",
      "                           'Yorkshire Terrier': 3.0456239786807937},\n",
      "    'Golden Retriever': {   'Great Dane': 2.3554501988303422,\n",
      "                            'Portuguese Water Dog': 0.5234333775178538,\n",
      "                            'Standard Poodle': 0.5589328241885061,\n",
      "                            'Yorkshire Terrier': 2.7189466717326867},\n",
      "    'Great Dane': {   'Portuguese Water Dog': 2.878883576348196,\n",
      "                      'Standard Poodle': 2.7673344847246226,\n",
      "                      'Yorkshire Terrier': 4.931439699849636},\n",
      "    'Portuguese Water Dog': {   'Standard Poodle': 0.4323473918883697,\n",
      "                                'Yorkshire Terrier': 2.2667480328317673},\n",
      "    'Standard Poodle': {'Yorkshire Terrier': 2.2004387444064855},\n",
      "    'Yorkshire Terrier': {}}\n"
     ]
    }
   ],
   "source": [
    "from scipy.spatial.distance import euclidean\n",
    "\n",
    "distances = {}\n",
    "\n",
    "M = {}\n",
    "\n",
    "done = []\n",
    "\n",
    "for breed in dogs_standardized.index:\n",
    "    M[breed] = {}\n",
    "    done.append(breed)\n",
    "    for other_breed in dogs_standardized.index:\n",
    "        if other_breed in done: continue\n",
    "        M[breed][other_breed] = euclidean(dogs_standardized.loc[breed], \n",
    "                                                     dogs_standardized.loc[other_breed])\n",
    "        distances[breed+\":\"+other_breed] = M[breed][other_breed]\n",
    "        \n",
    "import pprint\n",
    "pp = pprint.PrettyPrinter(indent=4)\n",
    "pp.pprint(M)"
   ]
  },
  {
   "cell_type": "markdown",
   "metadata": {},
   "source": [
    "จากนั้นทำการเรียงลำดับข้อมูลตามระยะทางจากน้อยไปมาก"
   ]
  },
  {
   "cell_type": "code",
   "execution_count": 139,
   "metadata": {},
   "outputs": [
    {
     "name": "stdout",
     "output_type": "stream",
     "text": [
      "1. Border Colle         => Portuguese Water Dog : 0.17659\n",
      "2. Chihuahua            => Yorkshire Terrier    : 0.27475\n",
      "3. German Shepherd      => Golden Retriever     : 0.32685\n",
      "4. Border Colle         => Brittany Spaniel     : 0.35319\n",
      "5. Portuguese Water Dog => Standard Poodle      : 0.43235\n",
      "6. Boston Terrier       => Brittany Spaniel     : 0.43235\n",
      "7. Border Colle         => Standard Poodle      : 0.46662\n",
      "8. Golden Retriever     => Portuguese Water Dog : 0.52343\n",
      "9. Brittany Spaniel     => Portuguese Water Dog : 0.52978\n",
      "10. Golden Retriever     => Standard Poodle      : 0.55893\n",
      "11. Brittany Spaniel     => Standard Poodle      : 0.68299\n",
      "12. Border Colle         => Golden Retriever     : 0.69257\n",
      "13. Border Colle         => Boston Terrier       : 0.7816\n",
      "14. German Shepherd      => Portuguese Water Dog : 0.83066\n",
      "15. German Shepherd      => Standard Poodle      : 0.87121\n",
      "16. Boston Terrier       => Portuguese Water Dog : 0.9573\n",
      "17. Bullmastiff          => German Shepherd      : 0.97598\n",
      "18. Border Colle         => German Shepherd      : 1.0052\n",
      "19. Brittany Spaniel     => Golden Retriever     : 1.0383\n",
      "20. Boston Terrier       => Standard Poodle      : 1.0845\n",
      "21. Bullmastiff          => Great Dane           : 1.1246\n",
      "22. Boston Terrier       => Chihuahua            : 1.1276\n",
      "23. Bullmastiff          => Golden Retriever     : 1.2424\n",
      "24. Brittany Spaniel     => German Shepherd      : 1.3559\n",
      "25. Boston Terrier       => Yorkshire Terrier    : 1.3996\n",
      "26. Boston Terrier       => Golden Retriever     : 1.4705\n",
      "27. Brittany Spaniel     => Chihuahua            : 1.4958\n",
      "28. Bullmastiff          => Standard Poodle      : 1.6446\n",
      "29. Brittany Spaniel     => Yorkshire Terrier    : 1.7578\n",
      "30. Bullmastiff          => Portuguese Water Dog : 1.7642\n",
      "31. Boston Terrier       => German Shepherd      : 1.7866\n",
      "32. Border Colle         => Chihuahua            : 1.8387\n",
      "33. Border Colle         => Bullmastiff          : 1.9279\n",
      "34. Chihuahua            => Standard Poodle      : 1.971\n",
      "35. Chihuahua            => Portuguese Water Dog : 2.0115\n",
      "36. German Shepherd      => Great Dane           : 2.0649\n",
      "37. Border Colle         => Yorkshire Terrier    : 2.0959\n",
      "38. Standard Poodle      => Yorkshire Terrier    : 2.2004\n",
      "39. Brittany Spaniel     => Bullmastiff          : 2.2612\n",
      "40. Portuguese Water Dog => Yorkshire Terrier    : 2.2667\n",
      "41. Golden Retriever     => Great Dane           : 2.3555\n",
      "42. Chihuahua            => Golden Retriever     : 2.476\n",
      "43. Boston Terrier       => Bullmastiff          : 2.6913\n",
      "44. Golden Retriever     => Yorkshire Terrier    : 2.7189\n",
      "45. Great Dane           => Standard Poodle      : 2.7673\n",
      "46. Chihuahua            => German Shepherd      : 2.8028\n",
      "47. Great Dane           => Portuguese Water Dog : 2.8789\n",
      "48. German Shepherd      => Yorkshire Terrier    : 3.0456\n",
      "49. Border Colle         => Great Dane           : 3.0461\n",
      "50. Brittany Spaniel     => Great Dane           : 3.3834\n",
      "51. Bullmastiff          => Chihuahua            : 3.6067\n",
      "52. Boston Terrier       => Great Dane           : 3.8144\n",
      "53. Bullmastiff          => Yorkshire Terrier    : 3.8236\n",
      "54. Chihuahua            => Great Dane           : 4.7215\n",
      "55. Great Dane           => Yorkshire Terrier    : 4.9314\n"
     ]
    }
   ],
   "source": [
    "sorted_distances = sorted(distances.items(), key=lambda kv: (kv[1], kv[0]))\n",
    "i = 1\n",
    "for dogs, dist in sorted_distances:\n",
    "    d1, d2 = dogs.split(':')\n",
    "    print(\"{}. {:20} => {:20} : {:.5}\".format(i, d1, d2, dist))\n",
    "    i = i + 1"
   ]
  },
  {
   "cell_type": "markdown",
   "metadata": {},
   "source": [
    "จากข้อมูลระยะทางที่ได้ เราสามารถสร้างคลัสเตอร์ได้ ดังนี้\n",
    "\n",
    "1. รวมจุดข้อมูล 'Border Colle' กับ 'Portuguese Water Dog' เป็นคลัสเตอร์ที่ 1 (1. Border Colle  => Portuguese Water Dog : 0.17659)\n",
    "\n",
    "2. รวมจุดข้อมูล 'Chihuahua' กับ 'Yorkshire Terrier' เป็นคลัสเตอร์ที่ 2 (2. Chihuahua => Yorkshire Terrier : 0.27475)\n",
    "\n",
    "3. รวมจุดข้อมูล 'German Shepherd' กับ 'Golden Retriever' เป็นคลัสเตอร์ที่ 3 (3. German Shepherd      => Golden Retriever     : 0.32685)\n",
    "\n",
    "4. รวมจุดข้อมูล 'Brittany Spaniel' กับคลัสเตอร์ที่ 1 ได้เป็นคลัสเตอร์ที่ 4 (4. Border Colle         => Brittany Spaniel     : 0.35319)\n",
    "\n",
    "5. รวมจุดข้อมูล 'Standard Poodle' กับคลัสเตอร์ที่ 4 ได้เป็นคลัสเตอร์ที่ 5 (5. Portuguese Water Dog => Standard Poodle      : 0.43235)\n",
    "\n",
    "6. รวมจุดข้อมูล 'Boston Terrier' กับคลัสเตอร์ที่ 5 ได้เป็นคลัสเตอร์ที่ 6 (6. Boston Terrier       => Brittany Spaniel     : 0.43235)\n",
    "\n",
    "7. รวมคลัสเตอร์ที่ 3 กับคลัสเตอร์ที่ 6 ได้เป็นคลัสเตอร์ที่ 7 (8. Golden Retriever     => Portuguese Water Dog : 0.52343)\n",
    "\n",
    "8. รวมจุดข้อมูล 'Bullmastiff' กับคลัสเตอร์ที่ 7 ได้เป็นคลัสเตอร์ที่ 8 (17. Bullmastiff          => German Shepherd      : 0.97598)\n",
    "\n",
    "9. รวมจุดข้อมูล 'Great Dane' กับคลัสเตอร์ที่ 8 ได้เป็นคลัสเตอร์ที่ 9 (21. Bullmastiff          => Great Dane           : 1.1246\n",
    "\n",
    "10. รวมคลัสเตอร์ที่ 2 กับคลัสเตอร์ที่ 9 ได้เป็นคลัสเตอร์สุดท้ายคือคลัสเตอร์ที่ 10 (22. Boston Terrier       => Chihuahua            : 1.1276)"
   ]
  },
  {
   "cell_type": "markdown",
   "metadata": {},
   "source": [
    "## แบบฝึกหัด"
   ]
  },
  {
   "cell_type": "markdown",
   "metadata": {},
   "source": [
    "1. สร้าง scatterplot เพื่อแสดงความสัมพันธ์ระหว่างความสูงและน้ำหนักของจุดข้อมูลแต่ละจุดในชุดข้อมูล Dog Breed กราฟที่ได้มีความสอดคล้องกับ dendrogram ที่ได้จาก HCA หรือไม่อย่างไร"
   ]
  },
  {
   "cell_type": "markdown",
   "metadata": {},
   "source": [
    "2. จงสร้าง dendrogram ที่ได้จากการทำ `Complete-linkage clustering` และ `Average-linkage clustering` บนชุดข้อมูล Dog Breed"
   ]
  }
 ],
 "metadata": {
  "kernelspec": {
   "display_name": "Python 3",
   "language": "python",
   "name": "python3"
  },
  "language_info": {
   "codemirror_mode": {
    "name": "ipython",
    "version": 3
   },
   "file_extension": ".py",
   "mimetype": "text/x-python",
   "name": "python",
   "nbconvert_exporter": "python",
   "pygments_lexer": "ipython3",
   "version": "3.7.4"
  }
 },
 "nbformat": 4,
 "nbformat_minor": 2
}
