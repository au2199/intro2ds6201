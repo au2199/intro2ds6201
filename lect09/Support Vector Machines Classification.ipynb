{
 "cells": [
  {
   "cell_type": "markdown",
   "metadata": {},
   "source": [
    "`Support Vector Machine` (SVM) คือ โมเดลการเรียนรู้ที่สามารถใช้กับงานทางวิทยาศาสตร์ข้อมูลได้หลายประเภท คือ linear classification, non-linear classification, linear regression, non-linear regression, และ outlier detection\n",
    "\n",
    "SVM เป็นโมเดลที่มีการใช้งานอย่างแพร่หลายมากที่สุดโมเดลหนึ่ง นักวิทยาศาสตร์ข้อมูลทุกคนจึงควรศึกษาและเรียนรู้การใช้งานของ SVM โมเดล SVM นี้เหมาะกับการจำแนกประเภทกรณีที่ชุดข้อมูลมีความซับซ้อนมาก และมีขนาดเล็กถึงขนาดกลาง"
   ]
  },
  {
   "cell_type": "markdown",
   "metadata": {},
   "source": [
    "# Linear SVM Classification\n",
    "\n",
    "แนวความคิดพื้นฐานของ SVM สามารถอธิบายได้ดังรูปที่ 1\n",
    "\n",
    "![Large Margin Classification](ch08_fig1.png)\n",
    "**รูปที่ 1 การจำแนกประเภทโดยใช้ขอบเขตขนาดใหญ่ (large margin classification)** (ภาพประกอบจาก แหล่งอ้างอิง [1])\n",
    "\n",
    "รูปที่ 1 แสดง scatter plot ของแอทริบิวต์ `Petal length` และ `Petal width` ของดอกไอริส สปีชีส์ `Iris versiolor` และดอกไอริส สปีชีส์ `Iris setosa` ซึ่งจากรูปเห็นได้ชัดว่าข้อมูลนี้สามารถถูกแบ่งแยกได้ด้วยเส้นตรง (linearly separable) รูปทางด้านซ้ายแสดงเส้นขอบเขตการตัดสินใจ (decision boundary) ของโมเดลการเรียนรู้เชิงเส้น 3 โมเดล (เส้นสีแดง สีม่วง และเส้นประสีเขียว) ซึ่งจะเห็นได้ว่าโมเดลที่แทนด้วยเส้นประสีเขียวไม่สามารถจำแนกประเภทดอกไอริสสองสปีชีส์ออกจากกันได้ ส่วนโมเดลที่แทนด้วยเส้นสีแดงและสีม่วงนั้นสามารถจำแนกสปีชีส์ของดอกไอริสได้แต่ขอบเขตการตัดสินใจของทั้งสองโมเดลอยู่ใกล้กับจุดข้อมูลที่มีอยู่ในชุดข้อมูลนี้มาก ซึ่งมีผลเสียคือ หากมีข้อมูลใหม่เข้ามาโอกาสที่โมเดลจะทำนายผิดพลาดจะมีสูง \n",
    "\n",
    "ในทางตรงกันข้ามหากเราพิจารณา แผนภาพทางด้านขวาในรูปที่ 1 ซึ่งแสดงชุดข้อมูลชุดเดียวกันกับทางขวา แต่เส้นขอบเขตการตัดสินใจสีดำในรูปนี้ คือเส้นขอบเขตการตัดสินใจของ SVM จะเห็นได้ว่า เส้นขอบเขตการตัดสินใจของ SVM นั้นไม่เพียงแค่แบ่งชุดข้อมูลออกเป็นคลาส versicolor และคลาส setosa ได้แต่เส้นขอบเขตการตัดสินใจของ SVM ยังเป็นเส้นที่มีระยะทางมากที่สุดจากจุดข้อมูลในชุดข้อมูลฝึกฝนที่ใกล้ที่สุดอีกด้วย ซึ่งมีผลดีคือทำให้ SVM มีความทนทานต่อการเปลี่ยนแปลงของชุดข้อมูล กล่าวคือ ข้อมูลใหม่ที่เพิ่มขึ้นในชุดข้อมูลฝึกฝนมีโอกาสที่จะทำให้ขอบเขตการตัดสินใจเปลี่ยนแปลงไปได้น้อยลง"
   ]
  },
  {
   "cell_type": "markdown",
   "metadata": {},
   "source": [
    "## Soft Margin Classification\n",
    "\n",
    "หากเรากำหนดว่า จุดข้อมูลของคลาสเดียวกันจะต้องอยู่ในด้านเดียวกันของเส้นขอบเขตการตัดสินใจของ SVM ทั้งหมด เราจะเรียกโมเดลที่ได้ว่า `hard margin classification` ซึ่งมีข้อเสียสองประการคือ (1) `hard margin classification` จะใช้ได้เฉพาะกับชุดข้อมูลที่สามารถแบ่งแยกด้วยเส้นตรง (linearly separable) เท่านั้น และ (2) `hard margin classification` จะมีความอ่อนไหวกับ outlier หรือจุดข้อมูลที่ไม่เข้าพวก ดังแสดงในรูปที่ 2\n",
    "\n",
    "![hard margin classifier sensitive to outlier](ch08_fig2.png)\n",
    "**รูปที่ 2 `hard margin classifier` จะไม่สามารถจำแนกชุดข้อมูลแบบ non-linearly separable ได้ (ซ้าย) และจะทำงานผิดพลาดหากมี outlier หรือจุดที่ไม่เข้าพวก ในชุดข้อมูล** (ภาพประกอบจาก แหล่งอ้างอิง [1])\n",
    "\n",
    "การแก้ไขปัญหาที่พบใน `hard margin SVM` ดังกล่าว สามารถทำได้โดยใช้ `soft margin classification` ซึ่งอนุญาตให้มีจุดข้อมูลอยู่ในด้านที่ไม่ถูกต้องของเส้นขอบเขตการตัดสินใจได้ (เรียกว่า margin violation) โดยจุดข้อมูลที่อยู่ในด้านที่ไม่ถูกต้องจะมีจำนวนได้มากน้อยเท่าใด สามารถกำหนดได้ด้วยไฮเปอร์พารามิเตอร์ `C` โดยที่ \n",
    "* เมื่อค่า `C` ต่ำ จะทำให้โมเดล SVM ที่ได้มี margin violation จำนวนมาก ส่งผลให้ได้ขนาดขอบเขตการตัดสินใจกว้าง (large margin) ซึ่งจะทำให้โมเดล SVM สามารถใช้กับข้อมูลใหม่ที่ไม่เคยพบมาก่อนได้ดี (better generalization to new unseen data) \n",
    "\n",
    "* เมื่อค่า `C` สูง จะทำให้โมเดล SVM ที่ได้มี margin violation จำนวนน้อย ส่งผลให้ได้ขนาดขอบเขตการตัดสินใจแคบ (narrow margin) ซึ่งจะทำให้โมเดลที่ได้มีความสามารถในการทำนายค่าของข้อมูลใหม่ที่ไม่เคยพบมาก่อนได้ไม่มากนัก\n",
    "\n",
    "**หมายเหตุ** หากในการเทรน SVM พบว่าโมเดลเกิด overfit ขึ้น เราสามารถแก้ไขได้โดยปรับลดค่าไฮเปอร์พารามิเตอร์ `C` ให้น้อยลง"
   ]
  },
  {
   "cell_type": "markdown",
   "metadata": {},
   "source": [
    "## ตัวอย่างการสร้างโมเดล Linear SVM ด้วย Scikit-Learn"
   ]
  },
  {
   "cell_type": "markdown",
   "metadata": {},
   "source": [
    "### 1. การจำแนกประเภทดอกไอริสว่าเป็นสปีชีส์ Virginica หรือไม่ "
   ]
  },
  {
   "cell_type": "code",
   "execution_count": 1,
   "metadata": {},
   "outputs": [
    {
     "data": {
      "text/plain": [
       "Pipeline(memory=None,\n",
       "     steps=[('scaler', StandardScaler(copy=True, with_mean=True, with_std=True)), ('linear_svc', LinearSVC(C=1, class_weight=None, dual=True, fit_intercept=True,\n",
       "     intercept_scaling=1, loss='hinge', max_iter=1000, multi_class='ovr',\n",
       "     penalty='l2', random_state=None, tol=0.0001, verbose=0))])"
      ]
     },
     "execution_count": 1,
     "metadata": {},
     "output_type": "execute_result"
    }
   ],
   "source": [
    "import numpy as np\n",
    "from sklearn import datasets\n",
    "from sklearn.pipeline import Pipeline\n",
    "from sklearn.preprocessing import StandardScaler\n",
    "from sklearn.svm import LinearSVC\n",
    "\n",
    "iris = datasets.load_iris()\n",
    "X = iris.data[:, (2, 3)]  # petal length, petal width\n",
    "y = (iris.target == 2).astype(np.float64) # iris virginica\n",
    "\n",
    "svm_clf = Pipeline([\n",
    "    ('scaler', StandardScaler()),\n",
    "    ('linear_svc', LinearSVC(C=1, loss='hinge')),\n",
    "])\n",
    "svm_clf.fit(X, y)"
   ]
  },
  {
   "cell_type": "markdown",
   "metadata": {},
   "source": [
    "ทดลองใช้โมเดลที่ได้ทำนายสปีชีส์ของดอกไอริสที่มีค่า `petal length` เท่ากับ 5.5 และ `petal width` เท่ากับ 1.7"
   ]
  },
  {
   "cell_type": "code",
   "execution_count": 2,
   "metadata": {},
   "outputs": [
    {
     "data": {
      "text/plain": [
       "array([1.])"
      ]
     },
     "execution_count": 2,
     "metadata": {},
     "output_type": "execute_result"
    }
   ],
   "source": [
    "svm_clf.predict([[5.5, 1.7]])  # this is an iris virginica"
   ]
  },
  {
   "cell_type": "markdown",
   "metadata": {},
   "source": [
    "### 2. การทำนายการเกิดฝนตกโดยใช้ชุดข้อมูล `weather` "
   ]
  },
  {
   "cell_type": "code",
   "execution_count": 3,
   "metadata": {},
   "outputs": [
    {
     "data": {
      "text/html": [
       "<div>\n",
       "<style scoped>\n",
       "    .dataframe tbody tr th:only-of-type {\n",
       "        vertical-align: middle;\n",
       "    }\n",
       "\n",
       "    .dataframe tbody tr th {\n",
       "        vertical-align: top;\n",
       "    }\n",
       "\n",
       "    .dataframe thead th {\n",
       "        text-align: right;\n",
       "    }\n",
       "</style>\n",
       "<table border=\"1\" class=\"dataframe\">\n",
       "  <thead>\n",
       "    <tr style=\"text-align: right;\">\n",
       "      <th></th>\n",
       "      <th>Temperature_c</th>\n",
       "      <th>Humidity</th>\n",
       "      <th>Wind_Speed_kmh</th>\n",
       "      <th>Wind_Bearing_degrees</th>\n",
       "      <th>Visibility_km</th>\n",
       "      <th>Pressure_millibars</th>\n",
       "      <th>Rain</th>\n",
       "      <th>Description</th>\n",
       "    </tr>\n",
       "  </thead>\n",
       "  <tbody>\n",
       "    <tr>\n",
       "      <th>0</th>\n",
       "      <td>-0.555556</td>\n",
       "      <td>0.92</td>\n",
       "      <td>11.2700</td>\n",
       "      <td>130</td>\n",
       "      <td>8.0500</td>\n",
       "      <td>1021.60</td>\n",
       "      <td>0</td>\n",
       "      <td>Cold</td>\n",
       "    </tr>\n",
       "    <tr>\n",
       "      <th>1</th>\n",
       "      <td>21.111111</td>\n",
       "      <td>0.73</td>\n",
       "      <td>20.9300</td>\n",
       "      <td>330</td>\n",
       "      <td>16.1000</td>\n",
       "      <td>1017.00</td>\n",
       "      <td>1</td>\n",
       "      <td>Warm</td>\n",
       "    </tr>\n",
       "    <tr>\n",
       "      <th>2</th>\n",
       "      <td>16.600000</td>\n",
       "      <td>0.97</td>\n",
       "      <td>5.9731</td>\n",
       "      <td>193</td>\n",
       "      <td>14.9086</td>\n",
       "      <td>1013.99</td>\n",
       "      <td>1</td>\n",
       "      <td>Normal</td>\n",
       "    </tr>\n",
       "  </tbody>\n",
       "</table>\n",
       "</div>"
      ],
      "text/plain": [
       "   Temperature_c  Humidity  Wind_Speed_kmh  Wind_Bearing_degrees  \\\n",
       "0      -0.555556      0.92         11.2700                   130   \n",
       "1      21.111111      0.73         20.9300                   330   \n",
       "2      16.600000      0.97          5.9731                   193   \n",
       "\n",
       "   Visibility_km  Pressure_millibars  Rain Description  \n",
       "0         8.0500             1021.60     0        Cold  \n",
       "1        16.1000             1017.00     1        Warm  \n",
       "2        14.9086             1013.99     1      Normal  "
      ]
     },
     "execution_count": 3,
     "metadata": {},
     "output_type": "execute_result"
    }
   ],
   "source": [
    "import pandas as pd\n",
    "df = pd.read_csv('weather.csv')\n",
    "\n",
    "df.head(3)"
   ]
  },
  {
   "cell_type": "code",
   "execution_count": 4,
   "metadata": {},
   "outputs": [
    {
     "name": "stderr",
     "output_type": "stream",
     "text": [
      "/anaconda3/envs/tsa/lib/python3.7/site-packages/sklearn/preprocessing/data.py:645: DataConversionWarning: Data with input dtype uint8, int64, float64 were all converted to float64 by StandardScaler.\n",
      "  return self.partial_fit(X, y)\n",
      "/anaconda3/envs/tsa/lib/python3.7/site-packages/sklearn/base.py:464: DataConversionWarning: Data with input dtype uint8, int64, float64 were all converted to float64 by StandardScaler.\n",
      "  return self.fit(X, **fit_params).transform(X)\n",
      "/anaconda3/envs/tsa/lib/python3.7/site-packages/ipykernel_launcher.py:22: DataConversionWarning: Data with input dtype uint8, int64, float64 were all converted to float64 by StandardScaler.\n",
      "/anaconda3/envs/tsa/lib/python3.7/site-packages/sklearn/svm/base.py:931: ConvergenceWarning: Liblinear failed to converge, increase the number of iterations.\n",
      "  \"the number of iterations.\", ConvergenceWarning)\n"
     ]
    },
    {
     "data": {
      "text/plain": [
       "LinearSVC(C=1, class_weight=None, dual=True, fit_intercept=True,\n",
       "     intercept_scaling=1, loss='hinge', max_iter=1000, multi_class='ovr',\n",
       "     penalty='l2', random_state=None, tol=0.0001, verbose=0)"
      ]
     },
     "execution_count": 4,
     "metadata": {},
     "output_type": "execute_result"
    }
   ],
   "source": [
    "# เปลี่ยน categorical feature Description ไปเป็นตัวเลขโดยใช้ `get_dummies`\n",
    "df_dummies = pd.get_dummies(df, drop_first=True)\n",
    "\n",
    "# สลับลำดับข้อมูล\n",
    "from sklearn.utils import shuffle\n",
    "df_shuffled = shuffle(df_dummies, random_state=42)\n",
    "\n",
    "# แบ่งข้อมูลเป็น X , y\n",
    "DV = 'Rain'\n",
    "X = df_shuffled.drop(DV, axis=1)\n",
    "y = df_shuffled[DV]\n",
    "\n",
    "# แบ่งข้อมูลเป็น train/test sets\n",
    "from sklearn.model_selection import train_test_split\n",
    "X_train, X_test, y_train, y_test = train_test_split(X, y, \n",
    "                                                    test_size=0.33, random_state=42)\n",
    "\n",
    "# scale ค่าของข้อมูลให้อยู่ในช่วงมาตรฐาน\n",
    "from sklearn.preprocessing import StandardScaler\n",
    "std_model = StandardScaler()\n",
    "X_train_scaled = std_model.fit_transform(X_train)\n",
    "X_test_scaled = std_model.transform(X_test)\n",
    "\n",
    "# train model LinearSVC\n",
    "from sklearn.svm import LinearSVC\n",
    "svc_model = LinearSVC(C=1, loss='hinge')\n",
    "svc_model.fit(X_train_scaled, y_train)"
   ]
  },
  {
   "cell_type": "code",
   "execution_count": 5,
   "metadata": {},
   "outputs": [
    {
     "name": "stdout",
     "output_type": "stream",
     "text": [
      "              precision    recall  f1-score   support\n",
      "\n",
      "           0       0.99      0.97      0.98       383\n",
      "           1       1.00      1.00      1.00      2917\n",
      "\n",
      "   micro avg       1.00      1.00      1.00      3300\n",
      "   macro avg       0.99      0.98      0.99      3300\n",
      "weighted avg       1.00      1.00      1.00      3300\n",
      "\n"
     ]
    }
   ],
   "source": [
    "y_predicted = svc_model.predict(X_test_scaled)\n",
    "from sklearn.metrics import classification_report\n",
    "print(classification_report(y_test, y_predicted))"
   ]
  },
  {
   "cell_type": "markdown",
   "metadata": {},
   "source": [
    "# Nonlinear SVM Classification\n",
    "\n",
    "แม้ว่า soft margin linear SVM จะสามารถนำไปใช้งานกับข้อมูลแบบ non-linearly separable ได้ แต่ในกรณีที่ชุดข้อมูลมีความซับซ้อนมากจนไม่สามารถใช้เส้นขอบเขตแบบเส้นตรงของ soft margin linear SVM จำแนกได้ เราก็สามารถแก้ไขปัญหานี้ได้โดยการเพิ่มฟีเจอร์แบบ polynomial features เข้าไปในชุดข้อมูล ซึ่งในบางครั้งจะทำให้รูปร่างของมิติข้อมูลเปลี่ยนแปลงไปและสามารถจำแนกโดยใช้เส้นตรงได้ ดังตัวอย่างในรูปที่ 3\n",
    "\n",
    "![adding polynomial features](ch08_fig3.png)\n",
    "**รูปที่ 3 การเพิ่ม Polynomial features ทำให้จุดข้อมูลที่เรียงเป็นเส้นตรงในรูปทางด้านซ้าย เปลี่ยนเป็นจุดข้อมูลบนเส้นโค้งดังในรูปทางขวา ซึ่งสามารถแบ่งจุดข้อมูลออกเป็นกลุ่มสีเขียวและกลุ่มสีน้ำเงินได้โดยใช้เส้นตรง** (ภาพประกอบจาก แหล่งอ้างอิง [1])\n",
    "\n",
    "ใน Scikit-Learn มีตัวแปลงฟีเจอร์โพลิโนเมียลอยู่ใน `sklearn.preprocessing.PolynomialFeatures` ตัวอย่างต่อไปจะเป็นการใช้ `PolynomialFeatures` เพิ่มฟีเจอร์ให้กับชุดข้อมูลแบบ `nonlinear` ที่ประกอบด้วยฟีเจอร์สองตัวคือ `X1` และ `X2` จากนั้นจึงสร้างโมเดลตัวจำแนกประเภท Linear SVM เพื่อทำนายค่าข้อมูลต่อไป"
   ]
  },
  {
   "cell_type": "markdown",
   "metadata": {},
   "source": [
    "1. สร้างชุดข้อมูลแบบ `nonlinear` โดยใช้ฟังก์ชัน `make_moons`"
   ]
  },
  {
   "cell_type": "code",
   "execution_count": 6,
   "metadata": {},
   "outputs": [
    {
     "data": {
      "text/plain": [
       "[<matplotlib.lines.Line2D at 0x1a184fff60>]"
      ]
     },
     "execution_count": 6,
     "metadata": {},
     "output_type": "execute_result"
    },
    {
     "data": {
      "image/png": "[encoded data removed]",
      "text/plain": [
       "<Figure size 432x288 with 1 Axes>"
      ]
     },
     "metadata": {
      "needs_background": "light"
     },
     "output_type": "display_data"
    }
   ],
   "source": [
    "from sklearn.datasets import make_moons\n",
    "X, y = make_moons(n_samples=1000, noise=0.15)\n",
    "\n",
    "import matplotlib.pyplot as plt\n",
    "%matplotlib inline\n",
    "plt.plot(X[:,0][y==0], X[:,1][y==0], marker='o', linestyle='', color='b')\n",
    "plt.plot(X[:,0][y==1], X[:,1][y==1], marker='^', linestyle='', color='g')"
   ]
  },
  {
   "cell_type": "markdown",
   "metadata": {},
   "source": [
    "2. ทดลองใช้ Linear SVM กับชุดข้อมูลแบบ `nonlinear` ที่ได้"
   ]
  },
  {
   "cell_type": "code",
   "execution_count": 7,
   "metadata": {},
   "outputs": [
    {
     "name": "stdout",
     "output_type": "stream",
     "text": [
      "              precision    recall  f1-score   support\n",
      "\n",
      "           0       0.89      0.83      0.86       167\n",
      "           1       0.84      0.89      0.86       163\n",
      "\n",
      "   micro avg       0.86      0.86      0.86       330\n",
      "   macro avg       0.86      0.86      0.86       330\n",
      "weighted avg       0.86      0.86      0.86       330\n",
      "\n"
     ]
    },
    {
     "name": "stderr",
     "output_type": "stream",
     "text": [
      "/anaconda3/envs/tsa/lib/python3.7/site-packages/sklearn/svm/base.py:931: ConvergenceWarning: Liblinear failed to converge, increase the number of iterations.\n",
      "  \"the number of iterations.\", ConvergenceWarning)\n"
     ]
    }
   ],
   "source": [
    "# แบ่งข้อมูลเป็น train/test sets\n",
    "from sklearn.model_selection import train_test_split\n",
    "X_train, X_test, y_train, y_test = train_test_split(X, y, \n",
    "                                                    test_size=0.33, random_state=42)\n",
    "\n",
    "# train model LinearSVC\n",
    "from sklearn.svm import LinearSVC\n",
    "svc_model = LinearSVC(C=1, loss='hinge')\n",
    "svc_model.fit(X_train, y_train)\n",
    "\n",
    "# evaluate performance\n",
    "y_predicted = svc_model.predict(X_test)\n",
    "from sklearn.metrics import classification_report\n",
    "print(classification_report(y_test, y_predicted))"
   ]
  },
  {
   "cell_type": "markdown",
   "metadata": {},
   "source": [
    "จะเห็นได้ว่าโมเดลที่ได้มีประสิทธิภาพประมาณ 86% ซึ่งสาเหตุหลักน่าจะมาจากการที่เราใช้โมเดลแบบเชิงเส้นกับชุดข้อมูลแบบไม่เชิงเส้น \n",
    "\n",
    "3. ต่อไปเราจะเพิ่มฟีเจอร์โพลีโนเมียลเข้าไปในชุดข้อมูลโดยใช้คลาส `PolynomialFeatures` จากนั้นจึงนำข้อมูลที่ได้ป้อนให้กับโมเดล Linear SVM (ใช้ X_train, X_test, y_train, y_test ที่ได้จากขั้นตอนที่ 2)"
   ]
  },
  {
   "cell_type": "code",
   "execution_count": 8,
   "metadata": {},
   "outputs": [
    {
     "name": "stdout",
     "output_type": "stream",
     "text": [
      "              precision    recall  f1-score   support\n",
      "\n",
      "           0       0.99      0.99      0.99       167\n",
      "           1       0.99      0.99      0.99       163\n",
      "\n",
      "   micro avg       0.99      0.99      0.99       330\n",
      "   macro avg       0.99      0.99      0.99       330\n",
      "weighted avg       0.99      0.99      0.99       330\n",
      "\n"
     ]
    }
   ],
   "source": [
    "from sklearn.preprocessing import PolynomialFeatures\n",
    "\n",
    "polyf = PolynomialFeatures(degree=3)\n",
    "X_train_poly = polyf.fit_transform(X_train)\n",
    "X_test_poly = polyf.transform(X_test)\n",
    "\n",
    "svc_model = LinearSVC(C=1, loss='hinge')\n",
    "svc_model.fit(X_train_poly, y_train)\n",
    "\n",
    "# evaluate performance\n",
    "y_poly_predicted = svc_model.predict(X_test_poly)\n",
    "\n",
    "from sklearn.metrics import classification_report\n",
    "print(classification_report(y_test, y_poly_predicted))"
   ]
  },
  {
   "cell_type": "markdown",
   "metadata": {},
   "source": [
    "## Kernel Trick\n",
    "\n",
    "การเพิ่ม Polynomial Features สามารถทำได้ง่ายและใช้ได้กับชุดข้อมูลที่มีความซับซ้อนปานกลาง ในกรณีที่ชุดข้อมูลมีความซับซ้อนสูง การเพิ่ม Polynomial Features จะทำให้เกิด combinatorial explosion ของจำนวนฟีเจอร์ ส่งผลให้การเรียนรู้ทำได้ยากขึ้นและโมเดลที่ได้ทำงานช้าลง \n",
    "\n",
    "เทคนิคที่เหมาะกับชุดข้อมูลมีความซับซ้อนสูงมาก คือการใช้ `kernel trick` กับ `SVM` `kernel trick` เป็นเทคนิคทางคณิตศาสตร์ ที่ทำให้เราสามารถได้ผลลัพธ์เช่นเดียวกันกับการเพิ่ม features จำนวนมากเข้าไปในชุดข้อมูลได้โดยไม่จำเป็นต้องคำนวณหาค่าฟีเจอร์เหล่านั้นจริงๆ (ก็คือไม่มีการเพิ่มฟีเจอร์เข้าไปจริงนั่นเอง) วิธีการ `kernel trick` นี้ได้ถูกรวมไว้ในคลาส `SVC` ของไลบารี่ Scikit-Learn \n",
    "\n",
    "ตัวอย่างการใช้โมเดล SVC โดยการกำหนดให้ kernel เป็นแบบ `linear`"
   ]
  },
  {
   "cell_type": "code",
   "execution_count": 9,
   "metadata": {},
   "outputs": [
    {
     "name": "stdout",
     "output_type": "stream",
     "text": [
      "              precision    recall  f1-score   support\n",
      "\n",
      "           0       0.99      0.99      0.99       167\n",
      "           1       0.99      0.99      0.99       163\n",
      "\n",
      "   micro avg       0.99      0.99      0.99       330\n",
      "   macro avg       0.99      0.99      0.99       330\n",
      "weighted avg       0.99      0.99      0.99       330\n",
      "\n"
     ]
    },
    {
     "name": "stderr",
     "output_type": "stream",
     "text": [
      "/anaconda3/envs/tsa/lib/python3.7/site-packages/sklearn/svm/base.py:196: FutureWarning: The default value of gamma will change from 'auto' to 'scale' in version 0.22 to account better for unscaled features. Set gamma explicitly to 'auto' or 'scale' to avoid this warning.\n",
      "  \"avoid this warning.\", FutureWarning)\n"
     ]
    }
   ],
   "source": [
    "from sklearn.svm import SVC\n",
    "poly_kernel_svc = SVC(kernel='poly', degree=3, coef0=1, C=5)\n",
    "poly_kernel_svc.fit(X_train, y_train)\n",
    "\n",
    "y_poly_kernel_predicted = poly_kernel_svc.predict(X_test)\n",
    "print(classification_report(y_test, y_poly_kernel_predicted))"
   ]
  },
  {
   "cell_type": "markdown",
   "metadata": {},
   "source": [
    "จะเห็นได้ว่าโมเดลที่ได้มีประสิทธิภาพเหมือนกันกับการใช้ `PolynomialFeatures` เพิ่มฟีเจอร์เข้าไปในชุดข้อมูล แต่ในกณีที่เราใช้ `Linear Kernel SVC` เราไม่จำเป็นต้องเพิ่มฟีเจอร์เข้าไปในชุดข้อมูลจริงๆ "
   ]
  },
  {
   "cell_type": "markdown",
   "metadata": {},
   "source": [
    "## Gaussian RBF Kernel\n",
    "\n",
    "นอกจากการเพิ่มฟีเจอร์โดยใช้ polynomial terms อีกวิธีการหนึ่งในการเพิ่มฟีเจอร์ให้กับข้อมูลคือ การเพิ่มฟีเจอร์ที่คำนวณได้จากการหาค่าความคล้ายคลึงกันกับจุดสังเกตุหรือ landmark เช่น `Gaussian Radial Basis Function (RBF)` ซึ่งมีค่าดังสมการ\n",
    "\n",
    "$\\varphi(x, L) = e^{(-\\gamma L^2)}$\n",
    "\n",
    "ตัวอย่างเช่นรูปที่ 4 แสดงการเพิ่มฟีเจอร์โดยใช้ Gaussian RBF\n",
    "\n",
    "![similarity featues with Gaussian RBF](ch08_fig4.png)\n",
    "**รูปที่ 4 การเพิ่ม similarity features โดยใช้ Gaussian RBF** (ภาพประกอบจาก แหล่งอ้างอิง [1])\n",
    "\n",
    "\n",
    "จากรูปที่ 4 ทางด้านซ้าย จุด landmark ที่ใช้เป็นจุดอ้างอิงในการวัดค่า similarity คือ จุด `x_1=-2` และจุด `x_1=1` ค่าของ `Gaussian RBF` เมื่อ landmark คือจุด `x_1=-2` แสดงดังเส้นโค้งประสีเขียว และ เมื่อ landmark คือจุด `x_1=1` แสดงดังเส้นโค้งประสีน้ำเงิน เราจะใช้ landmark `x_1=-2` เพื่อเพิ่มฟีเจอร์ `x_2` และ landmark `x_1=1` เพื่อเพิ่มฟีเจอร์ `x_3` \n",
    "\n",
    "ตัวอย่างการคำนวณค่าฟีเจอร์ $x_2$ และ $x_3$ ด้วย Gaussian RBF ตามสมการที่ให้ไว้ข้างต้นและกำหนดให้พารามิเตอร์ $\\gamma=0.3$ เมื่อจุดข้อมูลคือ `x=-1` ซึ่งห่างจาก landmark `x_1=-2` เท่ากับ 1 หน่วย และห่างจาก landmark `x_1=1` เป็นระยะทาง 2 หน่วย ค่าฟีเจอร์ใหม่คำนวณได้ดังนี้คือ\n",
    "\n",
    "$x_2 = \\varphi(x=1, L=1) = e^{(-0.3 * 1^2)} \\approx 0.74$\n",
    "\n",
    "$x_3 = \\varphi(x=1, L=2) = e^{(-0.3 * 2^2)} \\approx 0.30$\n",
    "\n",
    "เมื่อนำฟีเจอร์ใหม่ทั้งสองของแต่ละจุดข้อมูลมาพล็อตกราฟจะได้ผลลัพธ์เป็นชุดข้อมูลแบบ linearly separable ทางด้านขวาของรูปที่ 4\n",
    "\n",
    "เช่นเดียวกันกับกรณีของ polynomial features เราสามารถใช้ `kernel trick` กับ SVM ได้ ซึ่งในไลบารี่ Scikit-Learn ได้เตรียม Gaussian RBF kernel ไว้ให้ใช้กับคลาส SVC ดังตัวอย่างต่อไปนี้"
   ]
  },
  {
   "cell_type": "code",
   "execution_count": 10,
   "metadata": {
    "scrolled": false
   },
   "outputs": [
    {
     "name": "stdout",
     "output_type": "stream",
     "text": [
      "              precision    recall  f1-score   support\n",
      "\n",
      "           0       0.98      0.99      0.98       167\n",
      "           1       0.99      0.98      0.98       163\n",
      "\n",
      "   micro avg       0.98      0.98      0.98       330\n",
      "   macro avg       0.98      0.98      0.98       330\n",
      "weighted avg       0.98      0.98      0.98       330\n",
      "\n"
     ]
    }
   ],
   "source": [
    "from sklearn.svm import SVC\n",
    "rbf_kernel_svc = SVC(kernel='rbf', gamma=5, C=1000)\n",
    "rbf_kernel_svc.fit(X_train, y_train)\n",
    "\n",
    "rbf_kernel_predicted = rbf_kernel_svc.predict(X_test)\n",
    "print(classification_report(y_test, rbf_kernel_predicted))"
   ]
  },
  {
   "cell_type": "markdown",
   "metadata": {},
   "source": [
    "ทดลองค้นหาค่าไฮเปอร์พารามิเตอร์ที่เหมาะสม ด้วยวิธี grid search"
   ]
  },
  {
   "cell_type": "code",
   "execution_count": 11,
   "metadata": {},
   "outputs": [
    {
     "name": "stderr",
     "output_type": "stream",
     "text": [
      "/anaconda3/envs/tsa/lib/python3.7/site-packages/sklearn/model_selection/_split.py:2053: FutureWarning: You should specify a value for 'cv' instead of relying on the default value. The default value will change from 3 to 5 in version 0.22.\n",
      "  warnings.warn(CV_WARNING, FutureWarning)\n"
     ]
    },
    {
     "data": {
      "text/plain": [
       "GridSearchCV(cv='warn', error_score='raise-deprecating',\n",
       "       estimator=SVC(C=1.0, cache_size=200, class_weight=None, coef0=0.0,\n",
       "  decision_function_shape='ovr', degree=3, gamma='auto_deprecated',\n",
       "  kernel='rbf', max_iter=-1, probability=False, random_state=None,\n",
       "  shrinking=True, tol=0.001, verbose=False),\n",
       "       fit_params=None, iid='warn', n_jobs=None,\n",
       "       param_grid={'C': [0.1, 1, 10, 100, 1000], 'gamma': [10, 5, 1, 0.1, 0.01, 0.001], 'kernel': ['rbf']},\n",
       "       pre_dispatch='2*n_jobs', refit=True, return_train_score='warn',\n",
       "       scoring=None, verbose=0)"
      ]
     },
     "execution_count": 11,
     "metadata": {},
     "output_type": "execute_result"
    }
   ],
   "source": [
    "from sklearn.model_selection import GridSearchCV\n",
    "param_grid = {'C' :[0.1, 1, 10, 100, 1000],\n",
    "              'gamma':[10, 5, 1, 0.1, 0.01, 0.001],\n",
    "              'kernel': ['rbf']}\n",
    "\n",
    "grid = GridSearchCV(SVC(), param_grid, refit=True)\n",
    "grid.fit(X_train, y_train)"
   ]
  },
  {
   "cell_type": "code",
   "execution_count": 12,
   "metadata": {},
   "outputs": [
    {
     "data": {
      "text/plain": [
       "{'C': 0.1, 'gamma': 10, 'kernel': 'rbf'}"
      ]
     },
     "execution_count": 12,
     "metadata": {},
     "output_type": "execute_result"
    }
   ],
   "source": [
    "grid.best_params_"
   ]
  },
  {
   "cell_type": "code",
   "execution_count": 13,
   "metadata": {},
   "outputs": [
    {
     "data": {
      "text/plain": [
       "{'C': 0.1, 'gamma': 10, 'kernel': 'rbf'}"
      ]
     },
     "execution_count": 13,
     "metadata": {},
     "output_type": "execute_result"
    }
   ],
   "source": [
    "grid.best_params_"
   ]
  },
  {
   "cell_type": "code",
   "execution_count": 14,
   "metadata": {},
   "outputs": [
    {
     "name": "stdout",
     "output_type": "stream",
     "text": [
      "              precision    recall  f1-score   support\n",
      "\n",
      "           0       1.00      0.99      0.99       167\n",
      "           1       0.99      1.00      0.99       163\n",
      "\n",
      "   micro avg       0.99      0.99      0.99       330\n",
      "   macro avg       0.99      0.99      0.99       330\n",
      "weighted avg       0.99      0.99      0.99       330\n",
      "\n"
     ]
    }
   ],
   "source": [
    "print(classification_report(y_test, grid.predict(X_test)))"
   ]
  },
  {
   "cell_type": "markdown",
   "metadata": {},
   "source": [
    "# SVM Regression\n",
    "\n",
    "หลักการของ SVM Regression คือการปรับเป้าหมายของ SVM ให้เป็นตรงกันข้ามกับกรณีของ classification กล่าวคือ แทนที่จะค้นหาขอบเขตการตัดสินใจที่แบ่งคลาสสองคลาสออกจากกันโดยมีระยะห่างระหว่างจุดที่ใกล้ที่สุดของแต่ละคลาสมากที่สุด ในกรณีของ SVM Regression เราจะพยายามดิตจุดข้อมูลให้อยู่ภายในขอบเขตการตัดสินใจให้มากที่สุดเท่าที่จะเป็ฯไปได้ ดังในรูปที่ 5 ค่าไฮเปอร์พารามิเตอร์ของโมเดล SVM Regression ที่ใช้กำหนดขนาดของขอบเขตการตัดสินใจคือ ค่า epsilon ($\\epsilon$) โดยเมื่อค่า epsilon มากจะทำให้ขนาดของขอบเขตการตัดสินใจกว้างขึ้น\n",
    "\n",
    "![SVM Regression](ch08_fig5.png)\n",
    "**รูปที่ 5 หลักการของ SVM Regression คือการฟิตจุดข้อมูลให้อยู่ภายในขอบเขตของมาร์จิ้นของโมเดล** (ภาพประกอบจาก แหล่งอ้างอิง [1])\n",
    "\n",
    "ในไลบารี่ Scikit-Learn มี SVM Regression ให้เราเลือกใช้คือ LinearSVR เป็นโมเดลแบบเชิงเส้นและ SVR เป็นโมเดลแบบเชิงเส้นที่ใช้ `kernel trick` ดังตัวอย่างการใช้งานด้านล่าง"
   ]
  },
  {
   "cell_type": "code",
   "execution_count": 15,
   "metadata": {},
   "outputs": [
    {
     "name": "stdout",
     "output_type": "stream",
     "text": [
      "Mean Squared Error:  2997.875758220303\n",
      "Explained Variance Score:  0.43968392893656827\n"
     ]
    },
    {
     "name": "stderr",
     "output_type": "stream",
     "text": [
      "/anaconda3/envs/tsa/lib/python3.7/site-packages/sklearn/svm/base.py:931: ConvergenceWarning: Liblinear failed to converge, increase the number of iterations.\n",
      "  \"the number of iterations.\", ConvergenceWarning)\n"
     ]
    }
   ],
   "source": [
    "from sklearn.svm import LinearSVR\n",
    "from sklearn.datasets import load_diabetes\n",
    "from sklearn.preprocessing import StandardScaler\n",
    "from sklearn.model_selection import train_test_split\n",
    "from sklearn.metrics import mean_squared_error, explained_variance_score\n",
    "\n",
    "diabetes = datasets.load_diabetes()\n",
    "X = diabetes.data\n",
    "y = diabetes.target\n",
    "\n",
    "X_train, X_test, y_train, y_test = train_test_split(X, y, \n",
    "                                test_size=0.2, random_state=42)\n",
    "\n",
    "from sklearn.preprocessing import StandardScaler\n",
    "std_model = StandardScaler()\n",
    "X_train_scaled = std_model.fit_transform(X_train)\n",
    "X_test_scaled = std_model.transform(X_test)\n",
    "\n",
    "lsvr = LinearSVR(C=1000, epsilon=1.5)\n",
    "lsvr.fit(X_train_scaled, y_train)\n",
    "\n",
    "y_pred = lsvr.predict(X_test_scaled)\n",
    "print(\"Mean Squared Error: \", \n",
    "      mean_squared_error(y_test, y_pred))\n",
    "print(\"Explained Variance Score: \", \n",
    "      explained_variance_score(y_test, y_pred))"
   ]
  },
  {
   "cell_type": "code",
   "execution_count": 17,
   "metadata": {},
   "outputs": [
    {
     "name": "stdout",
     "output_type": "stream",
     "text": [
      "{'C': 1000, 'epsilon': 2, 'gamma': 0.001, 'kernel': 'rbf'}\n",
      "Mean Squared Error:  2829.7711575582275\n",
      "Explained Variance Score:  0.48427295470972176\n"
     ]
    },
    {
     "name": "stderr",
     "output_type": "stream",
     "text": [
      "/anaconda3/envs/tsa/lib/python3.7/site-packages/sklearn/model_selection/_search.py:841: DeprecationWarning: The default of the `iid` parameter will change from True to False in version 0.22 and will be removed in 0.24. This will change numeric results when test-set sizes are unequal.\n",
      "  DeprecationWarning)\n"
     ]
    }
   ],
   "source": [
    "from sklearn.svm import SVR\n",
    "from sklearn.datasets import load_diabetes\n",
    "from sklearn.model_selection import train_test_split\n",
    "from sklearn.metrics import mean_squared_error, explained_variance_score\n",
    "\n",
    "diabetes = datasets.load_diabetes()\n",
    "X = diabetes.data\n",
    "y = diabetes.target\n",
    "\n",
    "X_train, X_test, y_train, y_test = train_test_split(X, y, \n",
    "                                test_size=0.3, random_state=42)\n",
    "\n",
    "from sklearn.preprocessing import StandardScaler\n",
    "std_model = StandardScaler()\n",
    "X_train_scaled = std_model.fit_transform(X_train)\n",
    "X_test_scaled = std_model.transform(X_test)\n",
    "\n",
    "\n",
    "from sklearn.model_selection import GridSearchCV\n",
    "param_grid = {'C' :[0.1, 1, 10, 100, 1000],\n",
    "              'gamma': [0.001, 0.1, 1, 10, 100],\n",
    "              'epsilon': [0.1, 0.5, 1.0, 1.5, 2, 2.5],\n",
    "              'kernel': ['rbf']}\n",
    "\n",
    "grid_svr = GridSearchCV(SVR(), param_grid, cv=5)\n",
    "grid_svr.fit(X_train_scaled, y_train)\n",
    "\n",
    "print(grid_svr.best_params_)\n",
    "\n",
    "y_pred = grid_svr.predict(X_test_scaled)\n",
    "print(\"Mean Squared Error: \", mean_squared_error(y_test, y_pred))\n",
    "print(\"Explained Variance Score: \", explained_variance_score(y_test, y_pred))"
   ]
  },
  {
   "cell_type": "markdown",
   "metadata": {},
   "source": [
    "### เอกสารอ้างอิง\n",
    "\n",
    "[1] Aurelien Geron. Hands-On Machine Learning with Scikit-Learn, Keras, and TensorFlow,\n",
    "2ed, O'Reilly Media, Inc. 2019.\n",
    "\n",
    "[2] Mohamed Noordeen Alaudeen; Rohan Chopra; Aaron England. Data Science with Python,\n",
    "Packt Publishing, 2019."
   ]
  }
 ],
 "metadata": {
  "kernelspec": {
   "display_name": "Python 3",
   "language": "python",
   "name": "python3"
  },
  "language_info": {
   "codemirror_mode": {
    "name": "ipython",
    "version": 3
   },
   "file_extension": ".py",
   "mimetype": "text/x-python",
   "name": "python",
   "nbconvert_exporter": "python",
   "pygments_lexer": "ipython3",
   "version": "3.7.3"
  }
 },
 "nbformat": 4,
 "nbformat_minor": 2
}
