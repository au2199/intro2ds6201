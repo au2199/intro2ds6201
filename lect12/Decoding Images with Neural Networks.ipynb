{
 "cells": [
  {
   "cell_type": "markdown",
   "metadata": {},
   "source": [
    "# การทำนายตัวเลขในรูปภาพโดยใช้ Deep Neural Network "
   ]
  },
  {
   "cell_type": "markdown",
   "metadata": {},
   "source": [
    "1. โหลดข้อมูล MNIST dataset ด้วยไลบารี่ `keras`"
   ]
  },
  {
   "cell_type": "code",
   "execution_count": 1,
   "metadata": {},
   "outputs": [
    {
     "name": "stderr",
     "output_type": "stream",
     "text": [
      "Using TensorFlow backend.\n"
     ]
    }
   ],
   "source": [
    "from keras.datasets import mnist\n",
    "(x_train, y_train), (x_test, y_test) = mnist.load_data()"
   ]
  },
  {
   "cell_type": "markdown",
   "metadata": {},
   "source": [
    "ข้อมูล mnist ประกอบด้วยรูปภาพขนาด 28 pixel x 28 pixel โดยรูปภาพแต่ละรูปเป็นลายมือเขียนตัวเลข 0-9 โดยมีรูปภาพในชุดเทรน 60000 รูป และรูปภาพในชุดทดสอบ 10000 รูป"
   ]
  },
  {
   "cell_type": "code",
   "execution_count": 2,
   "metadata": {},
   "outputs": [
    {
     "name": "stdout",
     "output_type": "stream",
     "text": [
      "Shapes of data and target:\n",
      "(60000, 28, 28) (60000,) (10000, 28, 28) (10000,)\n",
      "Distinct values of y:\n",
      "[0 1 2 3 4 5 6 7 8 9]\n"
     ]
    }
   ],
   "source": [
    "import numpy as np\n",
    "\n",
    "print(\"Shapes of data and target:\")\n",
    "print(x_train.shape, y_train.shape, x_test.shape, y_test.shape)\n",
    "\n",
    "print(\"Distinct values of y:\")\n",
    "print(np.unique(y_train))"
   ]
  },
  {
   "cell_type": "code",
   "execution_count": 3,
   "metadata": {},
   "outputs": [
    {
     "name": "stdout",
     "output_type": "stream",
     "text": [
      "The number of image #1 is 0\n"
     ]
    },
    {
     "data": {
      "text/plain": [
       "<matplotlib.image.AxesImage at 0xb3bdb29b0>"
      ]
     },
     "execution_count": 3,
     "metadata": {},
     "output_type": "execute_result"
    },
    {
     "data": {
      "image/png": "[encoded data removed]",
      "text/plain": [
       "<Figure size 432x288 with 1 Axes>"
      ]
     },
     "metadata": {
      "needs_background": "light"
     },
     "output_type": "display_data"
    }
   ],
   "source": [
    "import matplotlib.pyplot as plt\n",
    "%matplotlib inline\n",
    "\n",
    "image_num = 1\n",
    "print(\"The number of image #{0} is {1}\".format(\n",
    "            image_num, y_train[image_num]))\n",
    "\n",
    "plt.imshow(x_train[image_num], cmap=plt.get_cmap('gray'))"
   ]
  },
  {
   "cell_type": "markdown",
   "metadata": {},
   "source": [
    "2. แปลงมิติของรูปภาพอินพุทให้เหลือเพียงมิติเดียวโดยมีขนาดเท่ากับ $28*28=784$"
   ]
  },
  {
   "cell_type": "code",
   "execution_count": 4,
   "metadata": {},
   "outputs": [],
   "source": [
    "x_train_flatten = x_train.reshape(60000, 784)\n",
    "x_test_flatten  = x_test.reshape(10000, 784)"
   ]
  },
  {
   "cell_type": "markdown",
   "metadata": {},
   "source": [
    "3. แปลงเอาท์พุท ให้อยู่ในรูป one-hot vector"
   ]
  },
  {
   "cell_type": "code",
   "execution_count": 5,
   "metadata": {},
   "outputs": [
    {
     "name": "stdout",
     "output_type": "stream",
     "text": [
      "5\n",
      "[0 0 0 0 0 1 0 0 0 0]\n"
     ]
    }
   ],
   "source": [
    "from sklearn.preprocessing import LabelBinarizer\n",
    "\n",
    "label_binarizer = LabelBinarizer()\n",
    "label_binarizer.fit(range(10))\n",
    "\n",
    "y_train_onehot = label_binarizer.transform(y_train)\n",
    "y_test_onehot  = label_binarizer.transform(y_test)\n",
    "\n",
    "print(y_train[0])\n",
    "print(y_train_onehot[0])"
   ]
  },
  {
   "cell_type": "markdown",
   "metadata": {},
   "source": [
    "4. สร้าง Deep Neural Network โดยใช้ไลบารี่ `keras`"
   ]
  },
  {
   "cell_type": "code",
   "execution_count": 6,
   "metadata": {},
   "outputs": [
    {
     "name": "stdout",
     "output_type": "stream",
     "text": [
      "Model: \"sequential_1\"\n",
      "_________________________________________________________________\n",
      "Layer (type)                 Output Shape              Param #   \n",
      "=================================================================\n",
      "dense_1 (Dense)              (None, 32)                25120     \n",
      "_________________________________________________________________\n",
      "dense_2 (Dense)              (None, 32)                1056      \n",
      "_________________________________________________________________\n",
      "dense_3 (Dense)              (None, 10)                330       \n",
      "=================================================================\n",
      "Total params: 26,506\n",
      "Trainable params: 26,506\n",
      "Non-trainable params: 0\n",
      "_________________________________________________________________\n"
     ]
    }
   ],
   "source": [
    "from keras.models import Sequential\n",
    "from keras.layers import Dense\n",
    "\n",
    "model = Sequential()\n",
    "model.add(Dense(units=32, activation='relu', input_dim=784))\n",
    "model.add(Dense(units=32, activation='relu'))\n",
    "model.add(Dense(units=10, activation='softmax'))\n",
    "model.compile(loss='categorical_crossentropy', \n",
    "             optimizer='adam', metrics=['acc'])\n",
    "\n",
    "model.summary()"
   ]
  },
  {
   "cell_type": "markdown",
   "metadata": {},
   "source": [
    "5. เทรนโมเดลและตรวจสอบค่า Accuracy"
   ]
  },
  {
   "cell_type": "code",
   "execution_count": 7,
   "metadata": {},
   "outputs": [
    {
     "name": "stdout",
     "output_type": "stream",
     "text": [
      "Train on 60000 samples, validate on 10000 samples\n",
      "Epoch 1/20\n",
      "60000/60000 [==============================] - 5s 77us/step - loss: 1.6138 - acc: 0.6641 - val_loss: 0.6140 - val_acc: 0.8473\n",
      "Epoch 2/20\n",
      "60000/60000 [==============================] - 4s 68us/step - loss: 0.4884 - acc: 0.8721 - val_loss: 0.3954 - val_acc: 0.9032\n",
      "Epoch 3/20\n",
      "60000/60000 [==============================] - 5s 80us/step - loss: 0.3916 - acc: 0.8947 - val_loss: 0.3651 - val_acc: 0.9072\n",
      "Epoch 4/20\n",
      "60000/60000 [==============================] - 5s 88us/step - loss: 0.3428 - acc: 0.9075 - val_loss: 0.3101 - val_acc: 0.9202\n",
      "Epoch 5/20\n",
      "60000/60000 [==============================] - 5s 81us/step - loss: 0.3196 - acc: 0.9135 - val_loss: 0.2981 - val_acc: 0.9233\n",
      "Epoch 6/20\n",
      "60000/60000 [==============================] - 4s 67us/step - loss: 0.2967 - acc: 0.9196 - val_loss: 0.2961 - val_acc: 0.9231\n",
      "Epoch 7/20\n",
      "60000/60000 [==============================] - 4s 67us/step - loss: 0.2724 - acc: 0.9243 - val_loss: 0.2785 - val_acc: 0.9296\n",
      "Epoch 8/20\n",
      "60000/60000 [==============================] - 4s 70us/step - loss: 0.2543 - acc: 0.9277 - val_loss: 0.2935 - val_acc: 0.9106\n",
      "Epoch 9/20\n",
      "60000/60000 [==============================] - 5s 85us/step - loss: 0.2354 - acc: 0.9323 - val_loss: 0.2486 - val_acc: 0.9355\n",
      "Epoch 10/20\n",
      "60000/60000 [==============================] - 4s 74us/step - loss: 0.2220 - acc: 0.9368 - val_loss: 0.2367 - val_acc: 0.9383\n",
      "Epoch 11/20\n",
      "60000/60000 [==============================] - 5s 75us/step - loss: 0.2143 - acc: 0.9383 - val_loss: 0.2324 - val_acc: 0.9375\n",
      "Epoch 12/20\n",
      "60000/60000 [==============================] - 5s 81us/step - loss: 0.2040 - acc: 0.9413 - val_loss: 0.2187 - val_acc: 0.9397\n",
      "Epoch 13/20\n",
      "60000/60000 [==============================] - 4s 73us/step - loss: 0.1932 - acc: 0.9441 - val_loss: 0.2180 - val_acc: 0.9424\n",
      "Epoch 14/20\n",
      "60000/60000 [==============================] - 5s 77us/step - loss: 0.1859 - acc: 0.9447 - val_loss: 0.2248 - val_acc: 0.9404\n",
      "Epoch 15/20\n",
      "60000/60000 [==============================] - 5s 78us/step - loss: 0.1828 - acc: 0.9460 - val_loss: 0.1978 - val_acc: 0.9463\n",
      "Epoch 16/20\n",
      "60000/60000 [==============================] - 5s 77us/step - loss: 0.1741 - acc: 0.9489 - val_loss: 0.2130 - val_acc: 0.9442\n",
      "Epoch 17/20\n",
      "60000/60000 [==============================] - 4s 74us/step - loss: 0.1725 - acc: 0.9487 - val_loss: 0.2200 - val_acc: 0.9423\n",
      "Epoch 18/20\n",
      "60000/60000 [==============================] - 4s 68us/step - loss: 0.1681 - acc: 0.9502 - val_loss: 0.2136 - val_acc: 0.9449\n",
      "Epoch 19/20\n",
      "60000/60000 [==============================] - 4s 67us/step - loss: 0.1632 - acc: 0.9516 - val_loss: 0.2236 - val_acc: 0.9459\n",
      "Epoch 20/20\n",
      "60000/60000 [==============================] - 5s 81us/step - loss: 0.1609 - acc: 0.9524 - val_loss: 0.2075 - val_acc: 0.9461\n"
     ]
    },
    {
     "data": {
      "text/plain": [
       "<keras.callbacks.callbacks.History at 0x1a3d3f52e8>"
      ]
     },
     "execution_count": 7,
     "metadata": {},
     "output_type": "execute_result"
    }
   ],
   "source": [
    "model.fit(x_train_flatten, y_train_onehot, \n",
    "          validation_data=(x_test_flatten, y_test_onehot), \n",
    "          epochs=20, batch_size=32)"
   ]
  },
  {
   "cell_type": "code",
   "execution_count": 8,
   "metadata": {},
   "outputs": [
    {
     "name": "stdout",
     "output_type": "stream",
     "text": [
      "10000/10000 [==============================] - 0s 27us/step\n",
      "Accuracy: 94.61%\n"
     ]
    }
   ],
   "source": [
    "score = model.evaluate(x_test_flatten, y_test_onehot)\n",
    "\n",
    "print(\"Accuracy: {0:.2f}%\".format(score[1]*100))"
   ]
  },
  {
   "cell_type": "markdown",
   "metadata": {},
   "source": [
    "6. ทดลองใช้โมเดลทำนายค่าตัวเลขในรูปภาพ"
   ]
  },
  {
   "cell_type": "code",
   "execution_count": 9,
   "metadata": {},
   "outputs": [
    {
     "data": {
      "image/png": "[encoded data removed]",
      "text/plain": [
       "<Figure size 432x288 with 1 Axes>"
      ]
     },
     "metadata": {
      "needs_background": "light"
     },
     "output_type": "display_data"
    },
    {
     "name": "stdout",
     "output_type": "stream",
     "text": [
      "Prediction: 4\n"
     ]
    }
   ],
   "source": [
    "imageid = 6\n",
    "plt.imshow(x_test[imageid], cmap=plt.get_cmap('gray'))\n",
    "plt.show()\n",
    "\n",
    "y_pred = model.predict(x_test_flatten)\n",
    "\n",
    "print(\"Prediction: {0}\".format(np.argmax(y_pred[imageid])))"
   ]
  },
  {
   "cell_type": "code",
   "execution_count": 10,
   "metadata": {},
   "outputs": [
    {
     "data": {
      "image/png": "[encoded data removed]",
      "text/plain": [
       "<Figure size 432x288 with 1 Axes>"
      ]
     },
     "metadata": {
      "needs_background": "light"
     },
     "output_type": "display_data"
    },
    {
     "name": "stdout",
     "output_type": "stream",
     "text": [
      "Prediction: 8\n",
      "True value: 3\n"
     ]
    }
   ],
   "source": [
    "incorrect_indices = np.nonzero(\n",
    "        np.argmax(y_pred, axis=1)!=np.argmax(y_test_onehot, axis=1))[0]\n",
    "\n",
    "imageid = 0\n",
    "plt.imshow(x_test[incorrect_indices[imageid]], \n",
    "           cmap=plt.get_cmap('gray'))\n",
    "plt.show()\n",
    "\n",
    "print(\"Prediction: {0}\".format(np.argmax(y_pred[incorrect_indices[imageid]])))\n",
    "print(\"True value: {0}\".format(y_test[incorrect_indices[imageid]]))"
   ]
  },
  {
   "cell_type": "markdown",
   "metadata": {},
   "source": [
    "# การทำนายตัวเลขในรูปภาพโดยใช้ Convolutional Neural Network\n",
    "\n",
    "Convolutional Neural Network (CNN) คือเครือข่ายประสาทเทียมที่มี convolutional layers เลเยอร์แบบ convolutional คือเลเยอร์ที่ใช้ `convolutional filters` ในการตรวจจับรูปแบบที่ซับซ้อนต่างๆ ภายในข้อมูลรูปภาพหรือข้อมูลที่มีความซับซ้อนสูงอื่น เช่นข้อความภาษาธรรมชาติ เป็นต้น\n",
    "\n",
    "ตัวอย่างของ convolutional filter สำหรับตรวจจับขอบแนวนอน\n",
    "\n",
    "![conv-filter](line_filter.jpg)"
   ]
  },
  {
   "cell_type": "markdown",
   "metadata": {},
   "source": [
    "ตัวอย่างการทำงานของ convolutional filter แสดงได้ดังภาพเคลื่อนไหวต่อไปนี้"
   ]
  },
  {
   "cell_type": "code",
   "execution_count": 1,
   "metadata": {},
   "outputs": [
    {
     "data": {
      "text/html": [
       "<img src=\"cnn_filter.gif\"/>"
      ],
      "text/plain": [
       "<IPython.core.display.Image object>"
      ]
     },
     "execution_count": 1,
     "metadata": {},
     "output_type": "execute_result"
    }
   ],
   "source": [
    "from IPython.display import Image \n",
    "Image(url='cnn_filter.gif')"
   ]
  },
  {
   "cell_type": "code",
   "execution_count": 11,
   "metadata": {},
   "outputs": [
    {
     "name": "stdout",
     "output_type": "stream",
     "text": [
      "X = \n",
      " [[10 10 10  0  0  0]\n",
      " [10 10 10  0  0  0]\n",
      " [10 10 10  0  0  0]\n",
      " [ 0  0  0 10 10 10]\n",
      " [ 0  0  0 10 10 10]\n",
      " [ 0  0  0 10 10 10]]\n",
      "\n",
      "Filter = \n",
      " [[ 1  1  1]\n",
      " [ 0  0  0]\n",
      " [-1 -1 -1]]\n",
      "\n",
      "Transformation = \n",
      " [[  0.   0.   0.   0.]\n",
      " [ 30.  10. -10. -30.]\n",
      " [ 30.  10. -10. -30.]\n",
      " [  0.   0.   0.   0.]]\n"
     ]
    },
    {
     "data": {
      "image/png": "[encoded data removed]",
      "text/plain": [
       "<Figure size 432x288 with 1 Axes>"
      ]
     },
     "metadata": {
      "needs_background": "light"
     },
     "output_type": "display_data"
    },
    {
     "data": {
      "image/png": "[encoded data removed]",
      "text/plain": [
       "<Figure size 432x288 with 1 Axes>"
      ]
     },
     "metadata": {
      "needs_background": "light"
     },
     "output_type": "display_data"
    },
    {
     "data": {
      "image/png": "[encoded data removed]",
      "text/plain": [
       "<Figure size 432x288 with 1 Axes>"
      ]
     },
     "metadata": {
      "needs_background": "light"
     },
     "output_type": "display_data"
    }
   ],
   "source": [
    "X = np.array([\n",
    "    [10,10,10,0,0,0],\n",
    "    [10,10,10,0,0,0],\n",
    "    [10,10,10,0,0,0],\n",
    "    [0,0,0,10,10,10],\n",
    "    [0,0,0,10,10,10],\n",
    "    [0,0,0,10,10,10],\n",
    "])\n",
    "\n",
    "print(\"X = \\n\", X)\n",
    "print()\n",
    "\n",
    "conv_filter = np.array([\n",
    "    [1,1,1],\n",
    "    [0,0,0],\n",
    "    [-1,-1,-1]\n",
    "])\n",
    "\n",
    "print(\"Filter = \\n\", conv_filter)\n",
    "\n",
    "print() \n",
    "\n",
    "T = np.zeros((4,4))\n",
    "\n",
    "for i in range(4):\n",
    "    for j in range(4):\n",
    "        T[i,j] = np.sum(X[0+i:3+i, 0+j:3+j] * conv_filter)\n",
    "\n",
    "print(\"Transformation = \\n\", T)\n",
    "\n",
    "plt.imshow(X, cmap=plt.get_cmap('Blues'))\n",
    "plt.show()\n",
    "plt.imshow(conv_filter, cmap=plt.get_cmap('Blues'))\n",
    "plt.show()\n",
    "plt.imshow(T, cmap=plt.get_cmap('Blues'))\n",
    "plt.show()"
   ]
  },
  {
   "cell_type": "markdown",
   "metadata": {},
   "source": [
    "โมเดล `CNN` ประกอบด้วยเลเยอร์ประเภทต่างๆ ดังนี้\n",
    "\n",
    "* **Convolutional Layer** คือเลเยอร์ที่ประกอบด้วย convolutional filters มักใช้ในช่วงแรกของเครือข่าย convolutional layers มีความสามารถในการสกัด high-level features จากข้อมูลอินพุท เช่น เส้น, สี, และอ็อบเจ็กต์แบบต่าง ๆ \n",
    "\n",
    "* **Pooling Layer** คือเลเยอร์สำหรับลดจำนวนมิติของข้อมูล มักถูกแทรกไว้ระหว่างเลเยอร์ convolutional เป็นระยะๆ เพื่อลดขนาดข้อมูลและจำนวนพารามิเตอร์รวมทั้งลดการเกิด overfitting ไปในตัว Pooling layer ชนิดที่มักใช้บ่อยๆ คือ Max pooling ขนาด 2x2 ดังรูป\n",
    "\n",
    "![max pooling](maxpooling.jpg)\n",
    "\n",
    "* **Dense Layer (Fully Connected Layer)** คือเลเยอร์ของโมเดลนิวรอนเน็ตเวิร์กแบบปกติ มักใส่ไว้ในตอนท้ายของ `CNN` เพื่อเรียนรู้ `non-linear patterns` ของ high-level features ที่เรียนรู้โดยชั้น convolutional layers\n",
    "\n",
    "ตัวอย่างโครงสร้างของ `CNN` แสดงดังรูปต่อไป\n",
    "\n",
    "![CNN](cnn_mnist.jpeg)"
   ]
  },
  {
   "cell_type": "markdown",
   "metadata": {},
   "source": [
    "ลำดับถัดไป เราจะทดลองใช้ `CNN` ในการจำแนกรูปภาพในชุดข้อมูล MNIST\n",
    "\n",
    "1. โหลดข้อมูลและเตรียมข้อมูลสำหรับ `CNN`"
   ]
  },
  {
   "cell_type": "code",
   "execution_count": 12,
   "metadata": {},
   "outputs": [],
   "source": [
    "from keras.datasets import mnist\n",
    "(x_train, y_train), (x_test, y_test) = mnist.load_data()\n",
    "x_train_ks = x_train.reshape(-1, 28, 28, 1) # 2D => 3D\n",
    "x_test_ks = x_test.reshape(-1, 28, 28, 1)   # 2D => 3D\n",
    "\n",
    "from sklearn.preprocessing import LabelBinarizer\n",
    "label_binarizer = LabelBinarizer()\n",
    "label_binarizer.fit(range(10))\n",
    "\n",
    "y_train_onehot = label_binarizer.transform(y_train)\n",
    "y_test_onehot = label_binarizer.transform(y_test)"
   ]
  },
  {
   "cell_type": "markdown",
   "metadata": {},
   "source": [
    "2. สร้างโมเดล `CNN` ด้วยไลบารี่ `keras`"
   ]
  },
  {
   "cell_type": "code",
   "execution_count": 13,
   "metadata": {},
   "outputs": [
    {
     "name": "stdout",
     "output_type": "stream",
     "text": [
      "Model: \"sequential_2\"\n",
      "_________________________________________________________________\n",
      "Layer (type)                 Output Shape              Param #   \n",
      "=================================================================\n",
      "conv2d_1 (Conv2D)            (None, 24, 24, 32)        832       \n",
      "_________________________________________________________________\n",
      "max_pooling2d_1 (MaxPooling2 (None, 12, 12, 32)        0         \n",
      "_________________________________________________________________\n",
      "conv2d_2 (Conv2D)            (None, 8, 8, 32)          25632     \n",
      "_________________________________________________________________\n",
      "max_pooling2d_2 (MaxPooling2 (None, 4, 4, 32)          0         \n",
      "_________________________________________________________________\n",
      "flatten_1 (Flatten)          (None, 512)               0         \n",
      "_________________________________________________________________\n",
      "dense_4 (Dense)              (None, 128)               65664     \n",
      "_________________________________________________________________\n",
      "dense_5 (Dense)              (None, 10)                1290      \n",
      "=================================================================\n",
      "Total params: 93,418\n",
      "Trainable params: 93,418\n",
      "Non-trainable params: 0\n",
      "_________________________________________________________________\n"
     ]
    }
   ],
   "source": [
    "from keras.models import Sequential\n",
    "from keras.layers import Dense, Conv2D, MaxPool2D, Flatten\n",
    "\n",
    "model = Sequential()\n",
    "\n",
    "model.add(Conv2D(32, kernel_size=5,  \n",
    "                 activation='relu',\n",
    "                 input_shape=(28, 28, 1)))\n",
    "\n",
    "model.add(MaxPool2D(pool_size=(2, 2)))\n",
    "\n",
    "model.add(Conv2D(32, kernel_size=5, \n",
    "                 activation='relu'))\n",
    "\n",
    "model.add(MaxPool2D(pool_size=(2, 2)))\n",
    "\n",
    "model.add(Flatten())\n",
    "\n",
    "model.add(Dense(128, activation='relu'))\n",
    "\n",
    "model.add(Dense(10, activation='softmax'))\n",
    "\n",
    "model.compile(loss='categorical_crossentropy', \n",
    "              optimizer='adam',\n",
    "              metrics=['acc'])\n",
    "\n",
    "model.summary()"
   ]
  },
  {
   "cell_type": "markdown",
   "metadata": {},
   "source": [
    "3. เทรนโมเดล และตรวจสอบค่า Accuracy"
   ]
  },
  {
   "cell_type": "code",
   "execution_count": 14,
   "metadata": {},
   "outputs": [
    {
     "name": "stdout",
     "output_type": "stream",
     "text": [
      "Train on 60000 samples, validate on 10000 samples\n",
      "Epoch 1/10\n",
      "60000/60000 [==============================] - 32s 539us/step - loss: 4.8851 - acc: 0.6795 - val_loss: 0.3440 - val_acc: 0.9034\n",
      "Epoch 2/10\n",
      "60000/60000 [==============================] - 32s 529us/step - loss: 0.2714 - acc: 0.9253 - val_loss: 0.1896 - val_acc: 0.9435\n",
      "Epoch 3/10\n",
      "60000/60000 [==============================] - 30s 501us/step - loss: 0.1696 - acc: 0.9520 - val_loss: 0.1405 - val_acc: 0.9580\n",
      "Epoch 4/10\n",
      "60000/60000 [==============================] - 30s 505us/step - loss: 0.1250 - acc: 0.9641 - val_loss: 0.1107 - val_acc: 0.9676\n",
      "Epoch 5/10\n",
      "60000/60000 [==============================] - 31s 523us/step - loss: 0.0954 - acc: 0.9718 - val_loss: 0.0976 - val_acc: 0.9721\n",
      "Epoch 6/10\n",
      "60000/60000 [==============================] - 34s 568us/step - loss: 0.0770 - acc: 0.9771 - val_loss: 0.0871 - val_acc: 0.9755\n",
      "Epoch 7/10\n",
      "60000/60000 [==============================] - 32s 541us/step - loss: 0.0633 - acc: 0.9811 - val_loss: 0.0841 - val_acc: 0.9752\n",
      "Epoch 8/10\n",
      "60000/60000 [==============================] - 32s 536us/step - loss: 0.0527 - acc: 0.9842 - val_loss: 0.0798 - val_acc: 0.9777\n",
      "Epoch 9/10\n",
      "60000/60000 [==============================] - 31s 515us/step - loss: 0.0458 - acc: 0.9862 - val_loss: 0.0782 - val_acc: 0.9790\n",
      "Epoch 10/10\n",
      "60000/60000 [==============================] - 31s 521us/step - loss: 0.0379 - acc: 0.9886 - val_loss: 0.0715 - val_acc: 0.9793\n",
      "10000/10000 [==============================] - 2s 184us/step\n",
      "Accuracy: 97.93%\n"
     ]
    }
   ],
   "source": [
    "model.fit(x_train_ks, y_train_onehot, \n",
    "          validation_data=(x_test_ks, y_test_onehot),\n",
    "          epochs=10, batch_size=1024)\n",
    "score = model.evaluate(x_test_ks, y_test_onehot)\n",
    "print(\"Accuracy: {0:.2f}%\".format(score[1]*100))"
   ]
  },
  {
   "cell_type": "markdown",
   "metadata": {},
   "source": [
    "โมเดล Convolutional Neural Network ที่ได้มีประสิทธิภาพดีกว่าโมเดล Deep Neural Network 3.5% (94.61% => 97.93%)"
   ]
  },
  {
   "cell_type": "markdown",
   "metadata": {},
   "source": [
    "4. ทดลองใช้โมเดลทำนายค่าตัวเลขในรูปภาพ"
   ]
  },
  {
   "cell_type": "code",
   "execution_count": 16,
   "metadata": {},
   "outputs": [
    {
     "data": {
      "image/png": "[encoded data removed]",
      "text/plain": [
       "<Figure size 432x288 with 1 Axes>"
      ]
     },
     "metadata": {
      "needs_background": "light"
     },
     "output_type": "display_data"
    },
    {
     "name": "stdout",
     "output_type": "stream",
     "text": [
      "Prediction: 4\n"
     ]
    }
   ],
   "source": [
    "imageid = 6\n",
    "plt.imshow(x_test[imageid], cmap=plt.get_cmap('gray'))\n",
    "plt.show()\n",
    "\n",
    "y_pred = model.predict(x_test_ks)\n",
    "\n",
    "print(\"Prediction: {0}\".format(np.argmax(y_pred[imageid])))"
   ]
  },
  {
   "cell_type": "code",
   "execution_count": 17,
   "metadata": {},
   "outputs": [
    {
     "data": {
      "image/png": "[encoded data removed]",
      "text/plain": [
       "<Figure size 432x288 with 1 Axes>"
      ]
     },
     "metadata": {
      "needs_background": "light"
     },
     "output_type": "display_data"
    },
    {
     "name": "stdout",
     "output_type": "stream",
     "text": [
      "Prediction: 5\n",
      "True value: 9\n"
     ]
    }
   ],
   "source": [
    "incorrect_indices = np.nonzero(\n",
    "        np.argmax(y_pred, axis=1)!=np.argmax(y_test_onehot, axis=1))[0]\n",
    "\n",
    "imageid = 0\n",
    "plt.imshow(x_test[incorrect_indices[imageid]], \n",
    "           cmap=plt.get_cmap('gray'))\n",
    "plt.show()\n",
    "\n",
    "print(\"Prediction: {0}\".format(np.argmax(y_pred[incorrect_indices[imageid]])))\n",
    "print(\"True value: {0}\".format(y_test[incorrect_indices[imageid]]))"
   ]
  }
 ],
 "metadata": {
  "kernelspec": {
   "display_name": "Python 3",
   "language": "python",
   "name": "python3"
  },
  "language_info": {
   "codemirror_mode": {
    "name": "ipython",
    "version": 3
   },
   "file_extension": ".py",
   "mimetype": "text/x-python",
   "name": "python",
   "nbconvert_exporter": "python",
   "pygments_lexer": "ipython3",
   "version": "3.7.3"
  }
 },
 "nbformat": 4,
 "nbformat_minor": 2
}
